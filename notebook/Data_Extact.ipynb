{
 "cells": [
  {
   "cell_type": "markdown",
   "metadata": {},
   "source": [
    "### Extract and save the Data using Yfinanace python Lib with the Ticker name of TSLA, BND AND SPY"
   ]
  },
  {
   "cell_type": "code",
   "execution_count": 1,
   "metadata": {},
   "outputs": [],
   "source": [
    "import pandas as pd\n",
    "import sys\n",
    "sys.path.insert(0, '/10 A KAI 2/week11/Time_Series_Forecasting_for_Portfolio_Management')"
   ]
  },
  {
   "cell_type": "code",
   "execution_count": 2,
   "metadata": {},
   "outputs": [],
   "source": [
    "from script.Data_Extract import FinancialDataAnalysis"
   ]
  },
  {
   "cell_type": "code",
   "execution_count": 3,
   "metadata": {},
   "outputs": [],
   "source": [
    "# Example usage:\n",
    "tickers = [\"TSLA\", \"BND\", \"SPY\"]\n",
    "start_date = \"2015-01-01\"\n",
    "end_date = \"2024-10-31\""
   ]
  },
  {
   "cell_type": "code",
   "execution_count": 4,
   "metadata": {},
   "outputs": [],
   "source": [
    "\n",
    "analysis = FinancialDataAnalysis(tickers, start_date, end_date)"
   ]
  },
  {
   "cell_type": "code",
   "execution_count": 5,
   "metadata": {},
   "outputs": [
    {
     "name": "stderr",
     "output_type": "stream",
     "text": [
      "[*********************100%***********************]  1 of 1 completed\n",
      "[*********************100%***********************]  1 of 1 completed\n",
      "[*********************100%***********************]  1 of 1 completed"
     ]
    },
    {
     "name": "stdout",
     "output_type": "stream",
     "text": [
      "Data downloaded successfully!\n"
     ]
    },
    {
     "name": "stderr",
     "output_type": "stream",
     "text": [
      "\n"
     ]
    }
   ],
   "source": [
    "analysis.download_data()"
   ]
  },
  {
   "cell_type": "code",
   "execution_count": 6,
   "metadata": {},
   "outputs": [
    {
     "name": "stdout",
     "output_type": "stream",
     "text": [
      "Data merged and saved to financial_data/merged_financial_data.csv\n"
     ]
    }
   ],
   "source": [
    "analysis.save_to_merged_file()"
   ]
  },
  {
   "cell_type": "code",
   "execution_count": 7,
   "metadata": {},
   "outputs": [
    {
     "data": {
      "text/html": [
       "<div>\n",
       "<style scoped>\n",
       "    .dataframe tbody tr th:only-of-type {\n",
       "        vertical-align: middle;\n",
       "    }\n",
       "\n",
       "    .dataframe tbody tr th {\n",
       "        vertical-align: top;\n",
       "    }\n",
       "\n",
       "    .dataframe thead th {\n",
       "        text-align: right;\n",
       "    }\n",
       "</style>\n",
       "<table border=\"1\" class=\"dataframe\">\n",
       "  <thead>\n",
       "    <tr style=\"text-align: right;\">\n",
       "      <th></th>\n",
       "      <th>Date</th>\n",
       "      <th>Adj Close</th>\n",
       "      <th>Close</th>\n",
       "      <th>High</th>\n",
       "      <th>Low</th>\n",
       "      <th>Open</th>\n",
       "      <th>Volume</th>\n",
       "      <th>Ticker</th>\n",
       "    </tr>\n",
       "  </thead>\n",
       "  <tbody>\n",
       "    <tr>\n",
       "      <th>0</th>\n",
       "      <td>2015-01-02 00:00:00+00:00</td>\n",
       "      <td>14.620667</td>\n",
       "      <td>14.620667</td>\n",
       "      <td>14.883333</td>\n",
       "      <td>14.217333</td>\n",
       "      <td>14.858000</td>\n",
       "      <td>71466000</td>\n",
       "      <td>TSLA</td>\n",
       "    </tr>\n",
       "    <tr>\n",
       "      <th>1</th>\n",
       "      <td>2015-01-05 00:00:00+00:00</td>\n",
       "      <td>14.006000</td>\n",
       "      <td>14.006000</td>\n",
       "      <td>14.433333</td>\n",
       "      <td>13.810667</td>\n",
       "      <td>14.303333</td>\n",
       "      <td>80527500</td>\n",
       "      <td>TSLA</td>\n",
       "    </tr>\n",
       "    <tr>\n",
       "      <th>2</th>\n",
       "      <td>2015-01-06 00:00:00+00:00</td>\n",
       "      <td>14.085333</td>\n",
       "      <td>14.085333</td>\n",
       "      <td>14.280000</td>\n",
       "      <td>13.614000</td>\n",
       "      <td>14.004000</td>\n",
       "      <td>93928500</td>\n",
       "      <td>TSLA</td>\n",
       "    </tr>\n",
       "    <tr>\n",
       "      <th>3</th>\n",
       "      <td>2015-01-07 00:00:00+00:00</td>\n",
       "      <td>14.063333</td>\n",
       "      <td>14.063333</td>\n",
       "      <td>14.318667</td>\n",
       "      <td>13.985333</td>\n",
       "      <td>14.223333</td>\n",
       "      <td>44526000</td>\n",
       "      <td>TSLA</td>\n",
       "    </tr>\n",
       "    <tr>\n",
       "      <th>4</th>\n",
       "      <td>2015-01-08 00:00:00+00:00</td>\n",
       "      <td>14.041333</td>\n",
       "      <td>14.041333</td>\n",
       "      <td>14.253333</td>\n",
       "      <td>14.000667</td>\n",
       "      <td>14.187333</td>\n",
       "      <td>51637500</td>\n",
       "      <td>TSLA</td>\n",
       "    </tr>\n",
       "    <tr>\n",
       "      <th>...</th>\n",
       "      <td>...</td>\n",
       "      <td>...</td>\n",
       "      <td>...</td>\n",
       "      <td>...</td>\n",
       "      <td>...</td>\n",
       "      <td>...</td>\n",
       "      <td>...</td>\n",
       "      <td>...</td>\n",
       "    </tr>\n",
       "    <tr>\n",
       "      <th>7417</th>\n",
       "      <td>2024-10-24 00:00:00+00:00</td>\n",
       "      <td>579.239990</td>\n",
       "      <td>579.239990</td>\n",
       "      <td>580.059998</td>\n",
       "      <td>576.570007</td>\n",
       "      <td>579.979980</td>\n",
       "      <td>34979900</td>\n",
       "      <td>SPY</td>\n",
       "    </tr>\n",
       "    <tr>\n",
       "      <th>7418</th>\n",
       "      <td>2024-10-25 00:00:00+00:00</td>\n",
       "      <td>579.039978</td>\n",
       "      <td>579.039978</td>\n",
       "      <td>584.460022</td>\n",
       "      <td>578.080017</td>\n",
       "      <td>581.510010</td>\n",
       "      <td>47268200</td>\n",
       "      <td>SPY</td>\n",
       "    </tr>\n",
       "    <tr>\n",
       "      <th>7419</th>\n",
       "      <td>2024-10-28 00:00:00+00:00</td>\n",
       "      <td>580.830017</td>\n",
       "      <td>580.830017</td>\n",
       "      <td>582.710022</td>\n",
       "      <td>580.520020</td>\n",
       "      <td>582.580017</td>\n",
       "      <td>30174700</td>\n",
       "      <td>SPY</td>\n",
       "    </tr>\n",
       "    <tr>\n",
       "      <th>7420</th>\n",
       "      <td>2024-10-29 00:00:00+00:00</td>\n",
       "      <td>581.770020</td>\n",
       "      <td>581.770020</td>\n",
       "      <td>582.909973</td>\n",
       "      <td>578.429993</td>\n",
       "      <td>579.849976</td>\n",
       "      <td>42899700</td>\n",
       "      <td>SPY</td>\n",
       "    </tr>\n",
       "    <tr>\n",
       "      <th>7421</th>\n",
       "      <td>2024-10-30 00:00:00+00:00</td>\n",
       "      <td>580.010010</td>\n",
       "      <td>580.010010</td>\n",
       "      <td>583.320007</td>\n",
       "      <td>579.289978</td>\n",
       "      <td>581.289978</td>\n",
       "      <td>41435800</td>\n",
       "      <td>SPY</td>\n",
       "    </tr>\n",
       "  </tbody>\n",
       "</table>\n",
       "<p>7422 rows × 8 columns</p>\n",
       "</div>"
      ],
      "text/plain": [
       "                           Date   Adj Close       Close        High  \\\n",
       "0     2015-01-02 00:00:00+00:00   14.620667   14.620667   14.883333   \n",
       "1     2015-01-05 00:00:00+00:00   14.006000   14.006000   14.433333   \n",
       "2     2015-01-06 00:00:00+00:00   14.085333   14.085333   14.280000   \n",
       "3     2015-01-07 00:00:00+00:00   14.063333   14.063333   14.318667   \n",
       "4     2015-01-08 00:00:00+00:00   14.041333   14.041333   14.253333   \n",
       "...                         ...         ...         ...         ...   \n",
       "7417  2024-10-24 00:00:00+00:00  579.239990  579.239990  580.059998   \n",
       "7418  2024-10-25 00:00:00+00:00  579.039978  579.039978  584.460022   \n",
       "7419  2024-10-28 00:00:00+00:00  580.830017  580.830017  582.710022   \n",
       "7420  2024-10-29 00:00:00+00:00  581.770020  581.770020  582.909973   \n",
       "7421  2024-10-30 00:00:00+00:00  580.010010  580.010010  583.320007   \n",
       "\n",
       "             Low        Open    Volume Ticker  \n",
       "0      14.217333   14.858000  71466000   TSLA  \n",
       "1      13.810667   14.303333  80527500   TSLA  \n",
       "2      13.614000   14.004000  93928500   TSLA  \n",
       "3      13.985333   14.223333  44526000   TSLA  \n",
       "4      14.000667   14.187333  51637500   TSLA  \n",
       "...          ...         ...       ...    ...  \n",
       "7417  576.570007  579.979980  34979900    SPY  \n",
       "7418  578.080017  581.510010  47268200    SPY  \n",
       "7419  580.520020  582.580017  30174700    SPY  \n",
       "7420  578.429993  579.849976  42899700    SPY  \n",
       "7421  579.289978  581.289978  41435800    SPY  \n",
       "\n",
       "[7422 rows x 8 columns]"
      ]
     },
     "execution_count": 7,
     "metadata": {},
     "output_type": "execute_result"
    }
   ],
   "source": [
    "pd.read_csv('./financial_data/merged_financial_data.csv')"
   ]
  },
  {
   "cell_type": "code",
   "execution_count": null,
   "metadata": {},
   "outputs": [],
   "source": []
  }
 ],
 "metadata": {
  "kernelspec": {
   "display_name": "venv",
   "language": "python",
   "name": "python3"
  },
  "language_info": {
   "codemirror_mode": {
    "name": "ipython",
    "version": 3
   },
   "file_extension": ".py",
   "mimetype": "text/x-python",
   "name": "python",
   "nbconvert_exporter": "python",
   "pygments_lexer": "ipython3",
   "version": "3.13.0"
  }
 },
 "nbformat": 4,
 "nbformat_minor": 2
}
