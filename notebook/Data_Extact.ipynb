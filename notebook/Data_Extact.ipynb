{
 "cells": [
  {
   "cell_type": "markdown",
   "metadata": {},
   "source": [
    "### Extract and save the Data using Yfinanace python Lib with the Ticker name of TSLA, BND AND SPY"
   ]
  },
  {
   "cell_type": "code",
   "execution_count": null,
   "metadata": {},
   "outputs": [],
   "source": [
    "import pandas as pd\n",
    "import sys\n",
    "sys.path.insert(0, '/10 A KAI 2/week11/Time_Series_Forecasting_for_Portfolio_Management')"
   ]
  },
  {
   "cell_type": "code",
   "execution_count": 2,
   "metadata": {},
   "outputs": [],
   "source": [
    "from script.Data_Extract import FinancialDataAnalysis"
   ]
  },
  {
   "cell_type": "code",
   "execution_count": 3,
   "metadata": {},
   "outputs": [],
   "source": [
    "# Example usage:\n",
    "tickers = [\"TSLA\", \"BND\", \"SPY\"]\n",
    "start_date = \"2015-01-01\"\n",
    "end_date = \"2024-10-31\""
   ]
  },
  {
   "cell_type": "code",
   "execution_count": 4,
   "metadata": {},
   "outputs": [],
   "source": [
    "\n",
    "analysis = FinancialDataAnalysis(tickers, start_date, end_date)"
   ]
  },
  {
   "cell_type": "code",
   "execution_count": 5,
   "metadata": {},
   "outputs": [
    {
     "name": "stderr",
     "output_type": "stream",
     "text": [
      "[*********************100%***********************]  1 of 1 completed\n",
      "[*********************100%***********************]  1 of 1 completed\n",
      "[*********************100%***********************]  1 of 1 completed"
     ]
    },
    {
     "name": "stdout",
     "output_type": "stream",
     "text": [
      "Data downloaded successfully!\n"
     ]
    },
    {
     "name": "stderr",
     "output_type": "stream",
     "text": [
      "\n"
     ]
    }
   ],
   "source": [
    "analysis.download_data()"
   ]
  },
  {
   "cell_type": "code",
   "execution_count": 6,
   "metadata": {},
   "outputs": [
    {
     "name": "stdout",
     "output_type": "stream",
     "text": [
      "Data saved to directory: financial_data\n"
     ]
    }
   ],
   "source": [
    "analysis.save_to_files()"
   ]
  },
  {
   "cell_type": "code",
   "execution_count": 7,
   "metadata": {},
   "outputs": [
    {
     "data": {
      "text/html": [
       "<div>\n",
       "<style scoped>\n",
       "    .dataframe tbody tr th:only-of-type {\n",
       "        vertical-align: middle;\n",
       "    }\n",
       "\n",
       "    .dataframe tbody tr th {\n",
       "        vertical-align: top;\n",
       "    }\n",
       "\n",
       "    .dataframe thead th {\n",
       "        text-align: right;\n",
       "    }\n",
       "</style>\n",
       "<table border=\"1\" class=\"dataframe\">\n",
       "  <thead>\n",
       "    <tr style=\"text-align: right;\">\n",
       "      <th></th>\n",
       "      <th>Date</th>\n",
       "      <th>Adj Close</th>\n",
       "      <th>Close</th>\n",
       "      <th>High</th>\n",
       "      <th>Low</th>\n",
       "      <th>Open</th>\n",
       "      <th>Volume</th>\n",
       "    </tr>\n",
       "  </thead>\n",
       "  <tbody>\n",
       "    <tr>\n",
       "      <th>0</th>\n",
       "      <td>2015-01-02 00:00:00+00:00</td>\n",
       "      <td>63.358765</td>\n",
       "      <td>82.650002</td>\n",
       "      <td>82.690002</td>\n",
       "      <td>82.419998</td>\n",
       "      <td>82.430000</td>\n",
       "      <td>2218800</td>\n",
       "    </tr>\n",
       "    <tr>\n",
       "      <th>1</th>\n",
       "      <td>2015-01-05 00:00:00+00:00</td>\n",
       "      <td>63.542732</td>\n",
       "      <td>82.889999</td>\n",
       "      <td>82.919998</td>\n",
       "      <td>82.699997</td>\n",
       "      <td>82.739998</td>\n",
       "      <td>5820100</td>\n",
       "    </tr>\n",
       "    <tr>\n",
       "      <th>2</th>\n",
       "      <td>2015-01-06 00:00:00+00:00</td>\n",
       "      <td>63.726730</td>\n",
       "      <td>83.129997</td>\n",
       "      <td>83.379997</td>\n",
       "      <td>83.029999</td>\n",
       "      <td>83.029999</td>\n",
       "      <td>3887600</td>\n",
       "    </tr>\n",
       "    <tr>\n",
       "      <th>3</th>\n",
       "      <td>2015-01-07 00:00:00+00:00</td>\n",
       "      <td>63.765057</td>\n",
       "      <td>83.180000</td>\n",
       "      <td>83.279999</td>\n",
       "      <td>83.050003</td>\n",
       "      <td>83.139999</td>\n",
       "      <td>2433400</td>\n",
       "    </tr>\n",
       "    <tr>\n",
       "      <th>4</th>\n",
       "      <td>2015-01-08 00:00:00+00:00</td>\n",
       "      <td>63.665413</td>\n",
       "      <td>83.050003</td>\n",
       "      <td>83.110001</td>\n",
       "      <td>82.970001</td>\n",
       "      <td>83.110001</td>\n",
       "      <td>1873400</td>\n",
       "    </tr>\n",
       "    <tr>\n",
       "      <th>...</th>\n",
       "      <td>...</td>\n",
       "      <td>...</td>\n",
       "      <td>...</td>\n",
       "      <td>...</td>\n",
       "      <td>...</td>\n",
       "      <td>...</td>\n",
       "      <td>...</td>\n",
       "    </tr>\n",
       "    <tr>\n",
       "      <th>2469</th>\n",
       "      <td>2024-10-24 00:00:00+00:00</td>\n",
       "      <td>73.081184</td>\n",
       "      <td>73.309998</td>\n",
       "      <td>73.440002</td>\n",
       "      <td>73.169998</td>\n",
       "      <td>73.279999</td>\n",
       "      <td>6219500</td>\n",
       "    </tr>\n",
       "    <tr>\n",
       "      <th>2470</th>\n",
       "      <td>2024-10-25 00:00:00+00:00</td>\n",
       "      <td>72.931664</td>\n",
       "      <td>73.160004</td>\n",
       "      <td>73.480003</td>\n",
       "      <td>73.129997</td>\n",
       "      <td>73.480003</td>\n",
       "      <td>4641400</td>\n",
       "    </tr>\n",
       "    <tr>\n",
       "      <th>2471</th>\n",
       "      <td>2024-10-28 00:00:00+00:00</td>\n",
       "      <td>72.841942</td>\n",
       "      <td>73.070000</td>\n",
       "      <td>73.279999</td>\n",
       "      <td>72.949997</td>\n",
       "      <td>73.239998</td>\n",
       "      <td>4582800</td>\n",
       "    </tr>\n",
       "    <tr>\n",
       "      <th>2472</th>\n",
       "      <td>2024-10-29 00:00:00+00:00</td>\n",
       "      <td>72.901749</td>\n",
       "      <td>73.129997</td>\n",
       "      <td>73.139999</td>\n",
       "      <td>72.790001</td>\n",
       "      <td>72.900002</td>\n",
       "      <td>5543800</td>\n",
       "    </tr>\n",
       "    <tr>\n",
       "      <th>2473</th>\n",
       "      <td>2024-10-30 00:00:00+00:00</td>\n",
       "      <td>72.831970</td>\n",
       "      <td>73.059998</td>\n",
       "      <td>73.430000</td>\n",
       "      <td>73.019997</td>\n",
       "      <td>73.269997</td>\n",
       "      <td>4610300</td>\n",
       "    </tr>\n",
       "  </tbody>\n",
       "</table>\n",
       "<p>2474 rows × 7 columns</p>\n",
       "</div>"
      ],
      "text/plain": [
       "                           Date  Adj Close      Close       High        Low  \\\n",
       "0     2015-01-02 00:00:00+00:00  63.358765  82.650002  82.690002  82.419998   \n",
       "1     2015-01-05 00:00:00+00:00  63.542732  82.889999  82.919998  82.699997   \n",
       "2     2015-01-06 00:00:00+00:00  63.726730  83.129997  83.379997  83.029999   \n",
       "3     2015-01-07 00:00:00+00:00  63.765057  83.180000  83.279999  83.050003   \n",
       "4     2015-01-08 00:00:00+00:00  63.665413  83.050003  83.110001  82.970001   \n",
       "...                         ...        ...        ...        ...        ...   \n",
       "2469  2024-10-24 00:00:00+00:00  73.081184  73.309998  73.440002  73.169998   \n",
       "2470  2024-10-25 00:00:00+00:00  72.931664  73.160004  73.480003  73.129997   \n",
       "2471  2024-10-28 00:00:00+00:00  72.841942  73.070000  73.279999  72.949997   \n",
       "2472  2024-10-29 00:00:00+00:00  72.901749  73.129997  73.139999  72.790001   \n",
       "2473  2024-10-30 00:00:00+00:00  72.831970  73.059998  73.430000  73.019997   \n",
       "\n",
       "           Open   Volume  \n",
       "0     82.430000  2218800  \n",
       "1     82.739998  5820100  \n",
       "2     83.029999  3887600  \n",
       "3     83.139999  2433400  \n",
       "4     83.110001  1873400  \n",
       "...         ...      ...  \n",
       "2469  73.279999  6219500  \n",
       "2470  73.480003  4641400  \n",
       "2471  73.239998  4582800  \n",
       "2472  72.900002  5543800  \n",
       "2473  73.269997  4610300  \n",
       "\n",
       "[2474 rows x 7 columns]"
      ]
     },
     "execution_count": 7,
     "metadata": {},
     "output_type": "execute_result"
    }
   ],
   "source": [
    "pd.read_csv('./financial_data/BND.csv')"
   ]
  }
 ],
 "metadata": {
  "kernelspec": {
   "display_name": "venv",
   "language": "python",
   "name": "python3"
  },
  "language_info": {
   "codemirror_mode": {
    "name": "ipython",
    "version": 3
   },
   "file_extension": ".py",
   "mimetype": "text/x-python",
   "name": "python",
   "nbconvert_exporter": "python",
   "pygments_lexer": "ipython3",
   "version": "3.13.0"
  }
 },
 "nbformat": 4,
 "nbformat_minor": 2
}
